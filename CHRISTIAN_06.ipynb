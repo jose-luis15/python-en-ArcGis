{
  "nbformat": 4,
  "nbformat_minor": 0,
  "metadata": {
    "colab": {
      "name": "Untitled24.ipynb",
      "provenance": [],
      "authorship_tag": "ABX9TyP4wTZTHC4+5iAd3gTM2/sp",
      "include_colab_link": true
    },
    "kernelspec": {
      "name": "python3",
      "display_name": "Python 3"
    }
  },
  "cells": [
    {
      "cell_type": "markdown",
      "metadata": {
        "id": "view-in-github",
        "colab_type": "text"
      },
      "source": [
        "<a href=\"https://colab.research.google.com/github/jose-luis15/python-en-ArcGis/blob/master/CHRISTIAN_06.ipynb\" target=\"_parent\"><img src=\"https://colab.research.google.com/assets/colab-badge.svg\" alt=\"Open In Colab\"/></a>"
      ]
    },
    {
      "cell_type": "code",
      "metadata": {
        "id": "fBwivU6vBCyh",
        "colab_type": "code",
        "colab": {}
      },
      "source": [
        "import pandas as pd"
      ],
      "execution_count": 0,
      "outputs": []
    },
    {
      "cell_type": "code",
      "metadata": {
        "id": "Lq_J3AdvBPHj",
        "colab_type": "code",
        "colab": {
          "base_uri": "https://localhost:8080/",
          "height": 137
        },
        "outputId": "fa092405-f81b-4a11-dbb3-e0a0d00adb0a"
      },
      "source": [
        "t = [\"deportivo\",\"casual\",\"elegante\"]\n",
        "p = [50,60,70]\n",
        "precios = pd.DataFrame({\"TIPO\":t,\"PRECIO\":p})\n",
        "precios"
      ],
      "execution_count": 2,
      "outputs": [
        {
          "output_type": "execute_result",
          "data": {
            "text/html": [
              "<div>\n",
              "<style scoped>\n",
              "    .dataframe tbody tr th:only-of-type {\n",
              "        vertical-align: middle;\n",
              "    }\n",
              "\n",
              "    .dataframe tbody tr th {\n",
              "        vertical-align: top;\n",
              "    }\n",
              "\n",
              "    .dataframe thead th {\n",
              "        text-align: right;\n",
              "    }\n",
              "</style>\n",
              "<table border=\"1\" class=\"dataframe\">\n",
              "  <thead>\n",
              "    <tr style=\"text-align: right;\">\n",
              "      <th></th>\n",
              "      <th>TIPO</th>\n",
              "      <th>PRECIO</th>\n",
              "    </tr>\n",
              "  </thead>\n",
              "  <tbody>\n",
              "    <tr>\n",
              "      <th>0</th>\n",
              "      <td>deportivo</td>\n",
              "      <td>50</td>\n",
              "    </tr>\n",
              "    <tr>\n",
              "      <th>1</th>\n",
              "      <td>casual</td>\n",
              "      <td>60</td>\n",
              "    </tr>\n",
              "    <tr>\n",
              "      <th>2</th>\n",
              "      <td>elegante</td>\n",
              "      <td>70</td>\n",
              "    </tr>\n",
              "  </tbody>\n",
              "</table>\n",
              "</div>"
            ],
            "text/plain": [
              "        TIPO  PRECIO\n",
              "0  deportivo      50\n",
              "1     casual      60\n",
              "2   elegante      70"
            ]
          },
          "metadata": {
            "tags": []
          },
          "execution_count": 2
        }
      ]
    },
    {
      "cell_type": "code",
      "metadata": {
        "id": "UJsQpfp8BUIh",
        "colab_type": "code",
        "colab": {
          "base_uri": "https://localhost:8080/",
          "height": 137
        },
        "outputId": "91f33133-1fc7-472c-83d9-96ae2d208c2b"
      },
      "source": [
        "c = [\"1-10\",\"11-16\",\"17 a mas\"]\n",
        "d = [3,5,7]\n",
        "descuento = pd.DataFrame({\"CANTIDAD\":c,\"DESCUENTO(%)\":d})\n",
        "descuento"
      ],
      "execution_count": 3,
      "outputs": [
        {
          "output_type": "execute_result",
          "data": {
            "text/html": [
              "<div>\n",
              "<style scoped>\n",
              "    .dataframe tbody tr th:only-of-type {\n",
              "        vertical-align: middle;\n",
              "    }\n",
              "\n",
              "    .dataframe tbody tr th {\n",
              "        vertical-align: top;\n",
              "    }\n",
              "\n",
              "    .dataframe thead th {\n",
              "        text-align: right;\n",
              "    }\n",
              "</style>\n",
              "<table border=\"1\" class=\"dataframe\">\n",
              "  <thead>\n",
              "    <tr style=\"text-align: right;\">\n",
              "      <th></th>\n",
              "      <th>CANTIDAD</th>\n",
              "      <th>DESCUENTO(%)</th>\n",
              "    </tr>\n",
              "  </thead>\n",
              "  <tbody>\n",
              "    <tr>\n",
              "      <th>0</th>\n",
              "      <td>1-10</td>\n",
              "      <td>3</td>\n",
              "    </tr>\n",
              "    <tr>\n",
              "      <th>1</th>\n",
              "      <td>11-16</td>\n",
              "      <td>5</td>\n",
              "    </tr>\n",
              "    <tr>\n",
              "      <th>2</th>\n",
              "      <td>17 a mas</td>\n",
              "      <td>7</td>\n",
              "    </tr>\n",
              "  </tbody>\n",
              "</table>\n",
              "</div>"
            ],
            "text/plain": [
              "   CANTIDAD  DESCUENTO(%)\n",
              "0      1-10             3\n",
              "1     11-16             5\n",
              "2  17 a mas             7"
            ]
          },
          "metadata": {
            "tags": []
          },
          "execution_count": 3
        }
      ]
    },
    {
      "cell_type": "code",
      "metadata": {
        "id": "lrdraX42Baew",
        "colab_type": "code",
        "colab": {
          "base_uri": "https://localhost:8080/",
          "height": 50
        },
        "outputId": "316adb35-2dd4-42b8-8ad6-efb8ed2e68ff"
      },
      "source": [
        "tipo = input(\"INGRESE EL TIPO DE PRENDA: \")\n",
        "cantidad = int(input(\"INGRESE LA CANTIDAD DE PRENDAS: \"))"
      ],
      "execution_count": 4,
      "outputs": [
        {
          "output_type": "stream",
          "text": [
            "INGRESE EL TIPO DE PRENDA: casual\n",
            "INGRESE LA CANTIDAD DE PRENDAS: 12\n"
          ],
          "name": "stdout"
        }
      ]
    },
    {
      "cell_type": "code",
      "metadata": {
        "id": "ERPIqzMaBipn",
        "colab_type": "code",
        "colab": {
          "base_uri": "https://localhost:8080/",
          "height": 66
        },
        "outputId": "dac885eb-f36f-463b-adb4-6f037aa1c09a"
      },
      "source": [
        "if tipo == \"deportivo\":\n",
        "     preciof = cantidad*precios.iloc[0,1]\n",
        "elif tipo == \"casual\":\n",
        "     preciof = cantidad*precios.iloc[1,1]\n",
        "elif tipo == \"elegante\":\n",
        "     preciof = cantidad*precios.iloc[-1,1]\n",
        "print(\"Precio final: s/.\",preciof)\n",
        "\n",
        "if 1<=cantidad<=10 :\n",
        "     desc = 3*preciof/100\n",
        "elif 11<=cantidad<=16 :\n",
        "     desc = 5*preciof/100\n",
        "elif 17<=cantidad :\n",
        "     desc = 7*preciof/100\n",
        "print(\"descuento: s/.\",desc)\n",
        "\n",
        "print(\"CANCELAR: S/.\",preciof-desc)\n"
      ],
      "execution_count": 5,
      "outputs": [
        {
          "output_type": "stream",
          "text": [
            "Precio final: s/. 720\n",
            "descuento: s/. 36.0\n",
            "CANCELAR: S/. 684.0\n"
          ],
          "name": "stdout"
        }
      ]
    }
  ]
}