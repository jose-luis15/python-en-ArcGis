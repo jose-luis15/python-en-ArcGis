{
  "nbformat": 4,
  "nbformat_minor": 0,
  "metadata": {
    "colab": {
      "name": "Untitled24.ipynb",
      "provenance": [],
      "authorship_tag": "ABX9TyNH8RhTb1s9upYF80HPkGYX",
      "include_colab_link": true
    },
    "kernelspec": {
      "name": "python3",
      "display_name": "Python 3"
    }
  },
  "cells": [
    {
      "cell_type": "markdown",
      "metadata": {
        "id": "view-in-github",
        "colab_type": "text"
      },
      "source": [
        "<a href=\"https://colab.research.google.com/github/jose-luis15/python-en-ArcGis/blob/master/CHRISTIAN_EJERCICIOS.ipynb\" target=\"_parent\"><img src=\"https://colab.research.google.com/assets/colab-badge.svg\" alt=\"Open In Colab\"/></a>"
      ]
    },
    {
      "cell_type": "code",
      "metadata": {
        "id": "fBwivU6vBCyh",
        "colab_type": "code",
        "colab": {}
      },
      "source": [
        "import pandas as pd"
      ],
      "execution_count": 0,
      "outputs": []
    },
    {
      "cell_type": "code",
      "metadata": {
        "id": "Lq_J3AdvBPHj",
        "colab_type": "code",
        "outputId": "9bcf9e4a-78aa-46e8-e042-75c2ca8e6c4f",
        "colab": {
          "base_uri": "https://localhost:8080/",
          "height": 137
        }
      },
      "source": [
        "t = [\"deportivo\",\"casual\",\"elegante\"]\n",
        "p = [50,60,70]\n",
        "precios = pd.DataFrame({\"TIPO\":t,\"PRECIO\":p})\n",
        "precios"
      ],
      "execution_count": 45,
      "outputs": [
        {
          "output_type": "execute_result",
          "data": {
            "text/html": [
              "<div>\n",
              "<style scoped>\n",
              "    .dataframe tbody tr th:only-of-type {\n",
              "        vertical-align: middle;\n",
              "    }\n",
              "\n",
              "    .dataframe tbody tr th {\n",
              "        vertical-align: top;\n",
              "    }\n",
              "\n",
              "    .dataframe thead th {\n",
              "        text-align: right;\n",
              "    }\n",
              "</style>\n",
              "<table border=\"1\" class=\"dataframe\">\n",
              "  <thead>\n",
              "    <tr style=\"text-align: right;\">\n",
              "      <th></th>\n",
              "      <th>TIPO</th>\n",
              "      <th>PRECIO</th>\n",
              "    </tr>\n",
              "  </thead>\n",
              "  <tbody>\n",
              "    <tr>\n",
              "      <th>0</th>\n",
              "      <td>deportivo</td>\n",
              "      <td>50</td>\n",
              "    </tr>\n",
              "    <tr>\n",
              "      <th>1</th>\n",
              "      <td>casual</td>\n",
              "      <td>60</td>\n",
              "    </tr>\n",
              "    <tr>\n",
              "      <th>2</th>\n",
              "      <td>elegante</td>\n",
              "      <td>70</td>\n",
              "    </tr>\n",
              "  </tbody>\n",
              "</table>\n",
              "</div>"
            ],
            "text/plain": [
              "        TIPO  PRECIO\n",
              "0  deportivo      50\n",
              "1     casual      60\n",
              "2   elegante      70"
            ]
          },
          "metadata": {
            "tags": []
          },
          "execution_count": 45
        }
      ]
    },
    {
      "cell_type": "code",
      "metadata": {
        "id": "UJsQpfp8BUIh",
        "colab_type": "code",
        "outputId": "b05f2bc5-01bb-46e6-a668-169fa2d1dd50",
        "colab": {
          "base_uri": "https://localhost:8080/",
          "height": 137
        }
      },
      "source": [
        "c = [\"1-10\",\"11-16\",\"17 a mas\"]\n",
        "d = [3,5,7]\n",
        "descuento = pd.DataFrame({\"CANTIDAD\":c,\"DESCUENTO(%)\":d})\n",
        "descuento"
      ],
      "execution_count": 46,
      "outputs": [
        {
          "output_type": "execute_result",
          "data": {
            "text/html": [
              "<div>\n",
              "<style scoped>\n",
              "    .dataframe tbody tr th:only-of-type {\n",
              "        vertical-align: middle;\n",
              "    }\n",
              "\n",
              "    .dataframe tbody tr th {\n",
              "        vertical-align: top;\n",
              "    }\n",
              "\n",
              "    .dataframe thead th {\n",
              "        text-align: right;\n",
              "    }\n",
              "</style>\n",
              "<table border=\"1\" class=\"dataframe\">\n",
              "  <thead>\n",
              "    <tr style=\"text-align: right;\">\n",
              "      <th></th>\n",
              "      <th>CANTIDAD</th>\n",
              "      <th>DESCUENTO(%)</th>\n",
              "    </tr>\n",
              "  </thead>\n",
              "  <tbody>\n",
              "    <tr>\n",
              "      <th>0</th>\n",
              "      <td>1-10</td>\n",
              "      <td>3</td>\n",
              "    </tr>\n",
              "    <tr>\n",
              "      <th>1</th>\n",
              "      <td>11-16</td>\n",
              "      <td>5</td>\n",
              "    </tr>\n",
              "    <tr>\n",
              "      <th>2</th>\n",
              "      <td>17 a mas</td>\n",
              "      <td>7</td>\n",
              "    </tr>\n",
              "  </tbody>\n",
              "</table>\n",
              "</div>"
            ],
            "text/plain": [
              "   CANTIDAD  DESCUENTO(%)\n",
              "0      1-10             3\n",
              "1     11-16             5\n",
              "2  17 a mas             7"
            ]
          },
          "metadata": {
            "tags": []
          },
          "execution_count": 46
        }
      ]
    },
    {
      "cell_type": "code",
      "metadata": {
        "id": "lrdraX42Baew",
        "colab_type": "code",
        "outputId": "5aed9feb-1d79-44aa-f4be-040671fdbf09",
        "colab": {
          "base_uri": "https://localhost:8080/",
          "height": 50
        }
      },
      "source": [
        "tipo = input(\"INGRESE EL TIPO DE PRENDA: \")\n",
        "cantidad = int(input(\"INGRESE LA CANTIDAD DE PRENDAS: \"))"
      ],
      "execution_count": 47,
      "outputs": [
        {
          "output_type": "stream",
          "text": [
            "INGRESE EL TIPO DE PRENDA: casual\n",
            "INGRESE LA CANTIDAD DE PRENDAS: 12\n"
          ],
          "name": "stdout"
        }
      ]
    },
    {
      "cell_type": "code",
      "metadata": {
        "id": "ZBSTPlfLsRle",
        "colab_type": "code",
        "colab": {
          "base_uri": "https://localhost:8080/",
          "height": 66
        },
        "outputId": "6ba080cf-d819-44c3-cfe5-95b2041f32ba"
      },
      "source": [
        "lar = precios[(precios[\"TIPO\"] == tipo)]\n",
        "lar = int(lar.iloc[:,-1])\n",
        "preciof = lar*cantidad\n",
        "print(\"Precio final: s/.\",preciof )\n",
        "\n",
        "if 1<=cantidad<=10 :\n",
        "     desc = 3*preciof/100\n",
        "elif 11<=cantidad<=16 :\n",
        "     desc = 5*preciof/100\n",
        "elif 17<=cantidad :\n",
        "     desc = 7*preciof/100\n",
        "print(\"descuento: s/.\",desc)\n",
        "\n",
        "print(\"CANCELAR: S/.\",preciof -desc)"
      ],
      "execution_count": 50,
      "outputs": [
        {
          "output_type": "stream",
          "text": [
            "Precio final: s/. 720\n",
            "descuento: s/. 36.0\n",
            "CANCELAR: S/. 684.0\n"
          ],
          "name": "stdout"
        }
      ]
    },
    {
      "cell_type": "code",
      "metadata": {
        "id": "v7dPcCP1fJ3e",
        "colab_type": "code",
        "colab": {}
      },
      "source": [
        "#EJERCICIO N°7"
      ],
      "execution_count": 0,
      "outputs": []
    },
    {
      "cell_type": "code",
      "metadata": {
        "id": "dOX_rishfbv0",
        "colab_type": "code",
        "colab": {
          "base_uri": "https://localhost:8080/",
          "height": 167
        },
        "outputId": "cb49ed07-0105-40e8-efd0-4fcb368d884c"
      },
      "source": [
        "P = [\"17-20\",\"14-16\",\"12-13\",\"0-11\"]\n",
        "C = [\"A\",\"B\",\"C\",\"D\"]\n",
        "categoria = pd.DataFrame({\"PROMEDIO\":P,\"CATEGORIA\":C})\n",
        "categoria"
      ],
      "execution_count": 18,
      "outputs": [
        {
          "output_type": "execute_result",
          "data": {
            "text/html": [
              "<div>\n",
              "<style scoped>\n",
              "    .dataframe tbody tr th:only-of-type {\n",
              "        vertical-align: middle;\n",
              "    }\n",
              "\n",
              "    .dataframe tbody tr th {\n",
              "        vertical-align: top;\n",
              "    }\n",
              "\n",
              "    .dataframe thead th {\n",
              "        text-align: right;\n",
              "    }\n",
              "</style>\n",
              "<table border=\"1\" class=\"dataframe\">\n",
              "  <thead>\n",
              "    <tr style=\"text-align: right;\">\n",
              "      <th></th>\n",
              "      <th>PROMEDIO</th>\n",
              "      <th>CATEGORIA</th>\n",
              "    </tr>\n",
              "  </thead>\n",
              "  <tbody>\n",
              "    <tr>\n",
              "      <th>0</th>\n",
              "      <td>17-20</td>\n",
              "      <td>A</td>\n",
              "    </tr>\n",
              "    <tr>\n",
              "      <th>1</th>\n",
              "      <td>14-16</td>\n",
              "      <td>B</td>\n",
              "    </tr>\n",
              "    <tr>\n",
              "      <th>2</th>\n",
              "      <td>12-13</td>\n",
              "      <td>C</td>\n",
              "    </tr>\n",
              "    <tr>\n",
              "      <th>3</th>\n",
              "      <td>0-11</td>\n",
              "      <td>D</td>\n",
              "    </tr>\n",
              "  </tbody>\n",
              "</table>\n",
              "</div>"
            ],
            "text/plain": [
              "  PROMEDIO CATEGORIA\n",
              "0    17-20         A\n",
              "1    14-16         B\n",
              "2    12-13         C\n",
              "3     0-11         D"
            ]
          },
          "metadata": {
            "tags": []
          },
          "execution_count": 18
        }
      ]
    },
    {
      "cell_type": "code",
      "metadata": {
        "id": "0Bv5qobxfIUP",
        "colab_type": "code",
        "colab": {
          "base_uri": "https://localhost:8080/",
          "height": 83
        },
        "outputId": "94eca229-9095-4e0b-98c7-0c002aeac9dd"
      },
      "source": [
        "print(\"INGRESE SUS NOTAS SEPARADAS POR COMAS(Ejemplo : 12,14,10,9)\")\n",
        "notas = input()\n",
        "notas = notas.split(\",\")\n",
        "\n",
        "suma = 0\n",
        "for x in notas:\n",
        "  suma += float(x)\n",
        "promedio = suma/len(notas)\n",
        "print(\"PROMEDIO =\",promedio)\n",
        "\n",
        "if 0<=promedio<=11 :\n",
        "     categoria = \"D\"\n",
        "elif 12<=promedio<=13 :\n",
        "     categoria = \"C\"\n",
        "elif 14<=promedio<=16 :\n",
        "     categoria = \"B\"\n",
        "elif 17<=promedio<=20 :\n",
        "     categoria = \"A\"\n",
        "print(\"CATEGORIA: \",categoria)"
      ],
      "execution_count": 20,
      "outputs": [
        {
          "output_type": "stream",
          "text": [
            "INGRESE SUS NOTAS SEPARADAS POR COMAS(Ejemplo : 12,14,10,9)\n",
            "12,13,17\n",
            "PROMEDIO = 14.0\n",
            "CATEGORIA:  B\n"
          ],
          "name": "stdout"
        }
      ]
    },
    {
      "cell_type": "code",
      "metadata": {
        "id": "ZLO0MnaUi4Y7",
        "colab_type": "code",
        "colab": {}
      },
      "source": [
        "#EJERCICO 8"
      ],
      "execution_count": 0,
      "outputs": []
    },
    {
      "cell_type": "code",
      "metadata": {
        "id": "_ca2hex1i7QE",
        "colab_type": "code",
        "colab": {
          "base_uri": "https://localhost:8080/",
          "height": 201
        },
        "outputId": "b59b152c-1659-4986-f342-c1f51ca72c46"
      },
      "source": [
        "facultad = [\"FACULTAD DE INGENIERIA\",\"FACULTAD DE CIENCIAS MATEMATICAS\",\"FACULTAD DE DERECHO\",\"FACULTAD DE CIENCIAS ADMINISTRATIVAS\"]\n",
        "mat = [1000,900,800,600]\n",
        "men = [2500,1800,2000,2000]\n",
        "categoria = pd.DataFrame({\"FACULTAD\":facultad,\"MATRICULA\":mat,\"MENSUALIDAD\":men})\n",
        "categoria"
      ],
      "execution_count": 21,
      "outputs": [
        {
          "output_type": "stream",
          "text": [
            "ERROR! Session/line number was not unique in"
          ],
          "name": "stdout"
        },
        {
          "output_type": "execute_result",
          "data": {
            "text/html": [
              "<div>\n",
              "<style scoped>\n",
              "    .dataframe tbody tr th:only-of-type {\n",
              "        vertical-align: middle;\n",
              "    }\n",
              "\n",
              "    .dataframe tbody tr th {\n",
              "        vertical-align: top;\n",
              "    }\n",
              "\n",
              "    .dataframe thead th {\n",
              "        text-align: right;\n",
              "    }\n",
              "</style>\n",
              "<table border=\"1\" class=\"dataframe\">\n",
              "  <thead>\n",
              "    <tr style=\"text-align: right;\">\n",
              "      <th></th>\n",
              "      <th>FACULTAD</th>\n",
              "      <th>MATRICULA</th>\n",
              "      <th>MENSUALIDAD</th>\n",
              "    </tr>\n",
              "  </thead>\n",
              "  <tbody>\n",
              "    <tr>\n",
              "      <th>0</th>\n",
              "      <td>FACULTAD DE INGENIERIA</td>\n",
              "      <td>1000</td>\n",
              "      <td>2500</td>\n",
              "    </tr>\n",
              "    <tr>\n",
              "      <th>1</th>\n",
              "      <td>FACULTAD DE CIENCIAS MATEMATICAS</td>\n",
              "      <td>900</td>\n",
              "      <td>1800</td>\n",
              "    </tr>\n",
              "    <tr>\n",
              "      <th>2</th>\n",
              "      <td>FACULTAD DE DERECHO</td>\n",
              "      <td>800</td>\n",
              "      <td>2000</td>\n",
              "    </tr>\n",
              "    <tr>\n",
              "      <th>3</th>\n",
              "      <td>FACULTAD DE CIENCIAS ADMINISTRATIVAS</td>\n",
              "      <td>600</td>\n",
              "      <td>2000</td>\n",
              "    </tr>\n",
              "  </tbody>\n",
              "</table>\n",
              "</div>"
            ],
            "text/plain": [
              "                               FACULTAD  MATRICULA  MENSUALIDAD\n",
              "0                FACULTAD DE INGENIERIA       1000         2500\n",
              "1      FACULTAD DE CIENCIAS MATEMATICAS        900         1800\n",
              "2                   FACULTAD DE DERECHO        800         2000\n",
              "3  FACULTAD DE CIENCIAS ADMINISTRATIVAS        600         2000"
            ]
          },
          "metadata": {
            "tags": []
          },
          "execution_count": 21
        },
        {
          "output_type": "stream",
          "text": [
            " database. History logging moved to new session 63\n"
          ],
          "name": "stdout"
        }
      ]
    },
    {
      "cell_type": "code",
      "metadata": {
        "id": "Gcyi-3LWkGXA",
        "colab_type": "code",
        "colab": {
          "base_uri": "https://localhost:8080/",
          "height": 133
        },
        "outputId": "963b4823-5d49-4433-fb61-63053b8a68b1"
      },
      "source": [
        "postulado = input(\"NOMBRE DEL POSTULADO: \")\n",
        "facu = input(\"NOMBRE DE LA FACULTAD: \")\n",
        "lor = categoria[(categoria[\"FACULTAD\"] == facu)]\n",
        "print()\n",
        "print(lor)\n",
        "\n",
        "monto = int(lor.iloc[:,1])+int(lor.iloc[:,2])\n",
        "print()\n",
        "print(\"MONTO A PAGAR; S/.\",monto)"
      ],
      "execution_count": 43,
      "outputs": [
        {
          "output_type": "stream",
          "text": [
            "NOMBRE DEL POSTULADO: jose\n",
            "NOMBRE DE LA FACULTAD: FACULTAD DE INGENIERIA\n",
            "\n",
            "                 FACULTAD  MATRICULA  MENSUALIDAD\n",
            "0  FACULTAD DE INGENIERIA       1000         2500\n",
            "\n",
            "MONTO A PAGAR; S/. 3500\n"
          ],
          "name": "stdout"
        }
      ]
    },
    {
      "cell_type": "code",
      "metadata": {
        "id": "-FZHPUu5pyai",
        "colab_type": "code",
        "colab": {}
      },
      "source": [
        "#EJERCICO 9"
      ],
      "execution_count": 0,
      "outputs": []
    },
    {
      "cell_type": "code",
      "metadata": {
        "id": "-dig8SUAwhTz",
        "colab_type": "code",
        "colab": {
          "base_uri": "https://localhost:8080/",
          "height": 227
        },
        "outputId": "a99c7f92-be51-48bc-a10d-c74d8764f28d"
      },
      "source": [
        "marca = [\"D'Onofrio\",\"Motta\",\"Todinno\",\"Naval\",\"Santa Claus\",\"Doña Pepa\"]\n",
        "precio = [20,19,18,9,11,10]\n",
        "paneton = pd.DataFrame({\"MARCA DEL PANETON\":marca,\"PRECIO UNITARIO\":precio})\n",
        "paneton"
      ],
      "execution_count": 51,
      "outputs": [
        {
          "output_type": "execute_result",
          "data": {
            "text/html": [
              "<div>\n",
              "<style scoped>\n",
              "    .dataframe tbody tr th:only-of-type {\n",
              "        vertical-align: middle;\n",
              "    }\n",
              "\n",
              "    .dataframe tbody tr th {\n",
              "        vertical-align: top;\n",
              "    }\n",
              "\n",
              "    .dataframe thead th {\n",
              "        text-align: right;\n",
              "    }\n",
              "</style>\n",
              "<table border=\"1\" class=\"dataframe\">\n",
              "  <thead>\n",
              "    <tr style=\"text-align: right;\">\n",
              "      <th></th>\n",
              "      <th>MARCA DEL PANETON</th>\n",
              "      <th>PRECIO UNITARIO</th>\n",
              "    </tr>\n",
              "  </thead>\n",
              "  <tbody>\n",
              "    <tr>\n",
              "      <th>0</th>\n",
              "      <td>D'Onofrio</td>\n",
              "      <td>20</td>\n",
              "    </tr>\n",
              "    <tr>\n",
              "      <th>1</th>\n",
              "      <td>Motta</td>\n",
              "      <td>19</td>\n",
              "    </tr>\n",
              "    <tr>\n",
              "      <th>2</th>\n",
              "      <td>Todinno</td>\n",
              "      <td>18</td>\n",
              "    </tr>\n",
              "    <tr>\n",
              "      <th>3</th>\n",
              "      <td>Naval</td>\n",
              "      <td>9</td>\n",
              "    </tr>\n",
              "    <tr>\n",
              "      <th>4</th>\n",
              "      <td>Santa Claus</td>\n",
              "      <td>11</td>\n",
              "    </tr>\n",
              "    <tr>\n",
              "      <th>5</th>\n",
              "      <td>Doña Pepa</td>\n",
              "      <td>10</td>\n",
              "    </tr>\n",
              "  </tbody>\n",
              "</table>\n",
              "</div>"
            ],
            "text/plain": [
              "  MARCA DEL PANETON  PRECIO UNITARIO\n",
              "0         D'Onofrio               20\n",
              "1             Motta               19\n",
              "2           Todinno               18\n",
              "3             Naval                9\n",
              "4       Santa Claus               11\n",
              "5         Doña Pepa               10"
            ]
          },
          "metadata": {
            "tags": []
          },
          "execution_count": 51
        }
      ]
    },
    {
      "cell_type": "code",
      "metadata": {
        "id": "_eJzOMrPxL-h",
        "colab_type": "code",
        "colab": {
          "base_uri": "https://localhost:8080/",
          "height": 166
        },
        "outputId": "17a27258-fa57-4bd0-f867-34a7a8279ad7"
      },
      "source": [
        "N = input(\"CLIENTE: \")\n",
        "M = input(\"MARCA: \")\n",
        "C = int(input(\"CANTIDAD: \"))\n",
        "print()\n",
        "\n",
        "lir = paneton[(paneton[\"MARCA DEL PANETON\"]==M)]\n",
        "print(lir)\n",
        "\n",
        "print()\n",
        "if 20<=C:\n",
        "  descuento = (C*int(lir.iloc[:,-1])) /10\n",
        "  print(\"DESCUENTO = S/.\", descuento)\n",
        "  monto = (90*C*int(lir.iloc[:,-1])) /100\n",
        "else:\n",
        "  monto = C*int(lir.iloc[:,-1])\n",
        "\n",
        "print(\"MONTO A PAGAR = S/.\",monto)"
      ],
      "execution_count": 55,
      "outputs": [
        {
          "output_type": "stream",
          "text": [
            "CLIENTE: Jose\n",
            "MARCA: Doña Pepa\n",
            "CANTIDAD: 25\n",
            "\n",
            "  MARCA DEL PANETON  PRECIO UNITARIO\n",
            "5         Doña Pepa               10\n",
            "\n",
            "DESCUENTO = S/. 25.0\n",
            "MONTO A PAGAR = S/. 225.0\n"
          ],
          "name": "stdout"
        }
      ]
    }
  ]
}